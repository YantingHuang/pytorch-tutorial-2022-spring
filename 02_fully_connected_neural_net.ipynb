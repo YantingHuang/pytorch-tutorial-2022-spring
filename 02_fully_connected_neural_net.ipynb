{
 "cells": [
  {
   "cell_type": "code",
   "execution_count": 1,
   "metadata": {},
   "outputs": [],
   "source": [
    "import torch\n",
    "import torch.nn as nn\n",
    "import torch.optim as optim\n",
    "import torch.nn.functional as F\n",
    "from torch.utils.data import DataLoader\n",
    "import torchvision.datasets as datasets\n",
    "import torchvision.transforms as transforms\n",
    "\n",
    "import pandas as pd\n",
    "import matplotlib.pyplot as plt\n",
    "\n",
    "import random\n",
    "import sys, os\n",
    "import multiprocessing"
   ]
  },
  {
   "cell_type": "code",
   "execution_count": 2,
   "metadata": {},
   "outputs": [],
   "source": [
    "# use gpu for training if available\n",
    "device = torch.device(\"cuda\" if torch.cuda.is_available() else \"cpu\")"
   ]
  },
  {
   "cell_type": "markdown",
   "metadata": {},
   "source": [
    "### Model Specification\n",
    "\n",
    "- Possible training techiniques to apply:\n",
    "    - Dropout: prevent from overfitting \n",
    "    - Batch Normalization: accelerate the training of deep network and make the training robust to bad weights initializations\n",
    "\n",
    "- Some useful resources for batch normalization and dropout\n",
    "    - [notes from Standord CS231n](https://cs231n.github.io/neural-networks-2/#reg): definition about batch normalization and dropout\n",
    "    - [dropout layer](https://pytorch.org/docs/stable/generated/torch.nn.Dropout.html): pytorch official document page\n",
    "    - [batch normalization layer](https://pytorch.org/docs/stable/generated/torch.nn.BatchNorm1d.html?highlight=batchnorm1d): pytorch offical document page\n",
    "    - [nn.Dropout v.s. F.dropout](https://stackoverflow.com/questions/53419474/using-dropout-in-pytorch-nn-dropout-vs-f-dropout): nn.Dropout is generally preferred\n",
    "\n",
    "Dropout:\n",
    "![dropout](https://cs231n.github.io/assets/nn2/dropout.jpeg)"
   ]
  },
  {
   "cell_type": "code",
   "execution_count": 3,
   "metadata": {},
   "outputs": [],
   "source": [
    "class Multiple_layer_fc_network(nn.Module):\n",
    "    \n",
    "    def __init__(self, input_size, num_classes, \n",
    "                 apply_dropout=False, dropout_p=0.50, apply_bn=False):\n",
    "        super(Multiple_layer_fc_network, self).__init__()\n",
    "        self.apply_dropout = apply_dropout\n",
    "        self.apply_bn = apply_bn\n",
    "        \n",
    "        if self.apply_dropout:\n",
    "            print(f\"apply dropout with dropping rate {dropout_p}\")\n",
    "        if self.apply_bn:\n",
    "            print(f\"apply batch normalization\")\n",
    "        \n",
    "        self.fc1 = nn.Linear(input_size, 100)\n",
    "        self.fc2 = nn.Linear(100, 50)\n",
    "        self.fc3 = nn.Linear(50, num_classes)\n",
    "        self.bn1 = nn.BatchNorm1d(num_features=100)\n",
    "        self.bn2 = nn.BatchNorm1d(num_features=50)\n",
    "        self.dropout = nn.Dropout(p=dropout_p) # prob that the element to be zeroed\n",
    "    \n",
    "    def forward(self, x):\n",
    "        # hidden layer 1\n",
    "        x = self.fc1(x)\n",
    "        if self.apply_bn:\n",
    "            x = self.bn1(x)\n",
    "        x = F.relu(x)\n",
    "        if self.apply_dropout:\n",
    "            x = self.dropout(x)      \n",
    "        # hidden layer 2\n",
    "        x = self.fc2(x)\n",
    "        if self.apply_bn:\n",
    "            x = self.bn2(x)\n",
    "        x = F.relu(x)\n",
    "        if self.apply_dropout:\n",
    "            x = self.dropout(x)   \n",
    "        # output layer\n",
    "        x = self.fc3(x)\n",
    "        return x"
   ]
  },
  {
   "cell_type": "markdown",
   "metadata": {},
   "source": [
    "### Dimensionality checking with random inputs\n",
    "Recommend to do so to ensure the data flow in your model is as you expected"
   ]
  },
  {
   "cell_type": "code",
   "execution_count": 4,
   "metadata": {},
   "outputs": [
    {
     "name": "stdout",
     "output_type": "stream",
     "text": [
      "torch.Size([64, 10])\n"
     ]
    }
   ],
   "source": [
    "x = torch.randn(64, 784)\n",
    "model = Multiple_layer_fc_network(input_size=784, num_classes=10)\n",
    "out = model(x)\n",
    "print(out.shape)"
   ]
  },
  {
   "cell_type": "markdown",
   "metadata": {},
   "source": [
    "### Global Variables Specification\n",
    "**[Important]** Configure this part to your preferred setting (especially the **path to the data** and the **path to save your trained model**) before you start training your model"
   ]
  },
  {
   "cell_type": "code",
   "execution_count": 5,
   "metadata": {},
   "outputs": [],
   "source": [
    "# model training specifications\n",
    "input_size = 784 # 28*28=784\n",
    "num_classes = 10 # number of classes of labels\n",
    "learning_rate = 0.001 # learning rate\n",
    "batch_size = 64 # number of training samples for each mini batch\n",
    "num_epochs = 50 # the maximum number of epochs for the model training\n",
    "num_workers = 16 # multiprocessing.cpu_count() \n",
    "apply_dropout = False # whether to apply drop out\n",
    "dropout_p = 0.20 # proportion of connections to be \"turned off\" between layers\n",
    "apply_bn = True # whether to apply batch normalization\n",
    "early_stopping_criteria= 5 # the tolerance level before terminating the training\n",
    "\n",
    "val_proportion = 0.2 # the proportion of samples to be used as validation set\n",
    "\n",
    "random_seed = 20220215 # random seed for reproducibility\n",
    "\n",
    "data_dir = \"/mnt/addtional_data_ssd/pytorch-tutorial-2022-spring/data\" # change this path to your preferred directory to store fashion minst data\n",
    "model_dir = \"/mnt/addtional_data_ssd/pytorch-tutorial-2022-spring/model\" \n",
    "\n",
    "saved_model_fn = os.path.join(model_dir, \"best_fcn_model.pt\")"
   ]
  },
  {
   "cell_type": "markdown",
   "metadata": {},
   "source": [
    "### Set up Dataset and DataLoader\n",
    "\n",
    "Dataset defines how we can access the data.  \n",
    "\n",
    "We will use a pre-loaded benchmark dataset called [**FashionMNIST**](https://pytorch.org/vision/stable/datasets.html#fashion-mnist) in this notebook. There are some pre-loaded datasets for other tasks, you can find them here: [Image datasets](https://pytorch.org/vision/stable/datasets.html), [Text datasets](https://pytorch.org/text/stable/datasets.html), and [Audio datasets](https://pytorch.org/audio/stable/datasets.html)."
   ]
  },
  {
   "cell_type": "code",
   "execution_count": 6,
   "metadata": {},
   "outputs": [
    {
     "name": "stdout",
     "output_type": "stream",
     "text": [
      "number samples in train: 48000\n",
      "number samples in val: 12000\n",
      "number samples in test: 10000\n"
     ]
    }
   ],
   "source": [
    "train_dataset = datasets.FashionMNIST(root=data_dir, \n",
    "                                      train=True, \n",
    "                                      transform=transforms.ToTensor(), \n",
    "                                      download=True)\n",
    "test_dataset  = datasets.FashionMNIST(root=data_dir, \n",
    "                                      train=False, \n",
    "                                      transform=transforms.ToTensor(), \n",
    "                                      download=True)\n",
    "\n",
    "\n",
    "val_size = int(val_proportion*len(train_dataset))\n",
    "train_size = len(train_dataset) - val_size\n",
    "test_size = len(test_dataset)\n",
    "\n",
    "print(f\"number samples in train: {train_size}\")\n",
    "print(f\"number samples in val: {val_size}\")\n",
    "print(f\"number samples in test: {test_size}\")\n",
    "\n",
    "# further split the entire training set to the training and validation set\n",
    "# validation set is for monitoring the training process\n",
    "train_dataset, val_dataset = torch.utils.data.random_split(dataset=train_dataset, \n",
    "                                                           lengths=[train_size, val_size],\n",
    "                                                           generator=torch.Generator().manual_seed(random_seed))"
   ]
  },
  {
   "cell_type": "markdown",
   "metadata": {},
   "source": [
    "Print the labels of the first 10 samples in the training set.\n",
    "\n",
    "Try to run the following block multiple times and the output should stay the same **since we have set the random seed **in the random_split() method."
   ]
  },
  {
   "cell_type": "code",
   "execution_count": 7,
   "metadata": {},
   "outputs": [
    {
     "name": "stdout",
     "output_type": "stream",
     "text": [
      "[8, 6, 9, 9, 6, 8, 1, 7, 9, 1]\n"
     ]
    }
   ],
   "source": [
    "t = [train_dataset[i][1] for i in range(10)]\n",
    "print(t)"
   ]
  },
  {
   "cell_type": "markdown",
   "metadata": {},
   "source": [
    "DataLoader can help you load multiple samples in parallel"
   ]
  },
  {
   "cell_type": "code",
   "execution_count": 8,
   "metadata": {},
   "outputs": [],
   "source": [
    "train_loader = DataLoader(dataset=train_dataset, \n",
    "                          batch_size=batch_size, \n",
    "                          shuffle=True, \n",
    "                          num_workers=num_workers)\n",
    "val_loader = DataLoader(dataset=val_dataset, \n",
    "                        batch_size=batch_size, \n",
    "                        shuffle=False, \n",
    "                        num_workers=num_workers)\n",
    "test_loader = DataLoader(dataset=test_dataset, \n",
    "                         batch_size=batch_size, \n",
    "                         shuffle=False, \n",
    "                         num_workers=num_workers)"
   ]
  },
  {
   "cell_type": "markdown",
   "metadata": {},
   "source": [
    "Check the dimensions (shapes) of the data"
   ]
  },
  {
   "cell_type": "code",
   "execution_count": 9,
   "metadata": {},
   "outputs": [
    {
     "name": "stdout",
     "output_type": "stream",
     "text": [
      "input image has shape:\n",
      "torch.Size([1, 28, 28])\n"
     ]
    }
   ],
   "source": [
    "image, target = train_dataset[0]\n",
    "print(\"input image has shape:\")\n",
    "print(image.shape)"
   ]
  },
  {
   "cell_type": "markdown",
   "metadata": {},
   "source": [
    "### Show Images\n",
    "Just to get a better sense of how fashion-mnist dataset looks like"
   ]
  },
  {
   "cell_type": "code",
   "execution_count": 10,
   "metadata": {},
   "outputs": [],
   "source": [
    "def show_single_image(dataset, image_index):\n",
    "    image, label = dataset[image_index]\n",
    "    image = torch.squeeze(image).numpy()\n",
    "    plt.imshow(image, cmap=\"binary\")\n",
    "    plt.show()\n",
    "\n",
    "def show_imgs(n_rows, n_cols, dataset, class_names):\n",
    "    assert n_rows * n_cols < len(dataset)\n",
    "    selected_indicies = random.sample(range(len(dataset)), n_rows * n_cols)\n",
    "    plt.figure(figsize = (n_cols * 1.4, n_rows * 1.6))\n",
    "    for row in range(n_rows):\n",
    "        for col in range(n_cols):\n",
    "            index = n_cols * row + col \n",
    "            plt.subplot(n_rows, n_cols, index+1)\n",
    "            image_index = selected_indicies[index]\n",
    "            image, label = dataset[image_index]\n",
    "            image = torch.squeeze(image).numpy()\n",
    "            plt.imshow(image, cmap=\"binary\", interpolation = 'nearest')\n",
    "            plt.axis('off')\n",
    "            plt.title(class_names[label])\n",
    "    plt.show()"
   ]
  },
  {
   "cell_type": "code",
   "execution_count": 11,
   "metadata": {},
   "outputs": [
    {
     "name": "stdout",
     "output_type": "stream",
     "text": [
      "show the first image\n"
     ]
    },
    {
     "data": {
      "image/png": "[encoded data removed]",
      "text/plain": [
       "<Figure size 432x288 with 1 Axes>"
      ]
     },
     "metadata": {
      "needs_background": "light"
     },
     "output_type": "display_data"
    },
    {
     "name": "stdout",
     "output_type": "stream",
     "text": [
      "show 20 randomly selected images\n"
     ]
    },
    {
     "data": {
      "image/png": "[encoded data removed]",
      "text/plain": [
       "<Figure size 504x460.8 with 20 Axes>"
      ]
     },
     "metadata": {
      "needs_background": "light"
     },
     "output_type": "display_data"
    }
   ],
   "source": [
    "class_names = ['T-shirt', 'Trouser', 'Pullover', 'Dress', 'Coat', 'Sandal', 'Shirt', 'Sneaker', 'Bag', 'Ankle boot']\n",
    "print(\"show the first image\")\n",
    "show_single_image(train_dataset, image_index=0)\n",
    "print(\"show 20 randomly selected images\")\n",
    "show_imgs(4, 5, train_dataset, class_names)"
   ]
  },
  {
   "cell_type": "markdown",
   "metadata": {},
   "source": [
    "### Model Initialization, Loss, Optimizer\n",
    "\n",
    "Three key components that you need to instantiate before the model training:\n",
    "1. The model\n",
    "2. The loss function\n",
    "3. The optimizer\n",
    "\n",
    "[Cross entropy loss](https://pytorch.org/docs/stable/generated/torch.nn.CrossEntropyLoss.html): Useful when training a classification problem with C classes.\n",
    "\n",
    "[Adam optimizer](https://pytorch.org/docs/stable/generated/torch.optim.Adam.html): an optimizer with adaptive learning rate. To check the exact math, see this [note](https://cs231n.github.io/neural-networks-3/) from CS 231n."
   ]
  },
  {
   "cell_type": "code",
   "execution_count": 12,
   "metadata": {},
   "outputs": [
    {
     "name": "stdout",
     "output_type": "stream",
     "text": [
      "apply batch normalization\n",
      "Multiple_layer_fc_network(\n",
      "  (fc1): Linear(in_features=784, out_features=100, bias=True)\n",
      "  (fc2): Linear(in_features=100, out_features=50, bias=True)\n",
      "  (fc3): Linear(in_features=50, out_features=10, bias=True)\n",
      "  (bn1): BatchNorm1d(100, eps=1e-05, momentum=0.1, affine=True, track_running_stats=True)\n",
      "  (bn2): BatchNorm1d(50, eps=1e-05, momentum=0.1, affine=True, track_running_stats=True)\n",
      "  (dropout): Dropout(p=0.2, inplace=False)\n",
      ")\n"
     ]
    }
   ],
   "source": [
    "# instantiate the model\n",
    "clf = Multiple_layer_fc_network(input_size=input_size, \n",
    "                                num_classes=num_classes,\n",
    "                                apply_dropout=apply_dropout,\n",
    "                                dropout_p=dropout_p,\n",
    "                                apply_bn=apply_bn)\n",
    "clf.to(device) # move the model to gpu if available\n",
    "print(clf)\n",
    "\n",
    "# instantiate the loss and the optimizer\n",
    "criterion = nn.CrossEntropyLoss()\n",
    "optimizer = optim.Adam(clf.parameters(), lr=learning_rate)"
   ]
  },
  {
   "cell_type": "markdown",
   "metadata": {},
   "source": [
    "### Initialize a dictionary to record training progress\n",
    "For plotting the learning curve"
   ]
  },
  {
   "cell_type": "code",
   "execution_count": 13,
   "metadata": {},
   "outputs": [],
   "source": [
    "train_state = {\n",
    "    \"train_loss\": [],\n",
    "    \"train_acc\": [],\n",
    "    \"val_loss\": [],\n",
    "    \"val_acc\": []\n",
    "}"
   ]
  },
  {
   "cell_type": "markdown",
   "metadata": {},
   "source": [
    "### Train the model\n",
    "- Loading the data\n",
    "- Switch to training mode\n",
    "- Training loop:\n",
    "    - Forward pass: calculate predictions and loss\n",
    "    - Backward pass: calculate gradients\n",
    "    - Update weights (parameters) of the network: based on calculated gradients\n",
    "- Switch to evaluation mode\n",
    "- [Model saving and loading](https://pytorch.org/tutorials/beginner/saving_loading_models.html)\n",
    "- Early stopping to avoid overfitting\n",
    "![](https://stanford.edu/~shervine/teaching/cs-230/illustrations/update-weights-en.png?5394a7bb976892418366d08646a0fd09)"
   ]
  },
  {
   "cell_type": "code",
   "execution_count": 14,
   "metadata": {},
   "outputs": [
    {
     "name": "stdout",
     "output_type": "stream",
     "text": [
      "[epoch 0 step 200] running training loss: 0.776\n",
      "[epoch 0 step 400] running training loss: 0.453\n",
      "[epoch 0 step 600] running training loss: 0.420\n",
      "[epoch 0] val loss: 0.389, accuracy: 85.342%\n",
      "current best validation loss: 0.389\n",
      "=====>save the best model\n",
      "--------------------------------------------\n",
      "[epoch 1 step 200] running training loss: 0.375\n",
      "[epoch 1 step 400] running training loss: 0.350\n",
      "[epoch 1 step 600] running training loss: 0.343\n",
      "[epoch 1] val loss: 0.357, accuracy: 86.458%\n",
      "current best validation loss: 0.357\n",
      "=====>save the best model\n",
      "--------------------------------------------\n",
      "[epoch 2 step 200] running training loss: 0.311\n",
      "[epoch 2 step 400] running training loss: 0.319\n",
      "[epoch 2 step 600] running training loss: 0.313\n",
      "[epoch 2] val loss: 0.320, accuracy: 88.300%\n",
      "current best validation loss: 0.320\n",
      "=====>save the best model\n",
      "--------------------------------------------\n",
      "[epoch 3 step 200] running training loss: 0.294\n",
      "[epoch 3 step 400] running training loss: 0.289\n",
      "[epoch 3 step 600] running training loss: 0.281\n",
      "[epoch 3] val loss: 0.315, accuracy: 88.333%\n",
      "current best validation loss: 0.315\n",
      "=====>save the best model\n",
      "--------------------------------------------\n",
      "[epoch 4 step 200] running training loss: 0.278\n",
      "[epoch 4 step 400] running training loss: 0.265\n",
      "[epoch 4 step 600] running training loss: 0.275\n",
      "[epoch 4] val loss: 0.329, accuracy: 87.917%\n",
      "validation loss stops decreasing for 1 epoch\n",
      "--------------------------------------------\n",
      "[epoch 5 step 200] running training loss: 0.250\n",
      "[epoch 5 step 400] running training loss: 0.258\n",
      "[epoch 5 step 600] running training loss: 0.257\n",
      "[epoch 5] val loss: 0.316, accuracy: 88.117%\n",
      "validation loss stops decreasing for 2 epoch\n",
      "--------------------------------------------\n",
      "[epoch 6 step 200] running training loss: 0.238\n",
      "[epoch 6 step 400] running training loss: 0.237\n",
      "[epoch 6 step 600] running training loss: 0.240\n",
      "[epoch 6] val loss: 0.332, accuracy: 88.017%\n",
      "validation loss stops decreasing for 3 epoch\n",
      "--------------------------------------------\n",
      "[epoch 7 step 200] running training loss: 0.216\n",
      "[epoch 7 step 400] running training loss: 0.229\n",
      "[epoch 7 step 600] running training loss: 0.239\n",
      "[epoch 7] val loss: 0.313, accuracy: 88.658%\n",
      "current best validation loss: 0.313\n",
      "=====>save the best model\n",
      "--------------------------------------------\n",
      "[epoch 8 step 200] running training loss: 0.210\n",
      "[epoch 8 step 400] running training loss: 0.221\n",
      "[epoch 8 step 600] running training loss: 0.229\n",
      "[epoch 8] val loss: 0.309, accuracy: 88.458%\n",
      "current best validation loss: 0.309\n",
      "=====>save the best model\n",
      "--------------------------------------------\n",
      "[epoch 9 step 200] running training loss: 0.192\n",
      "[epoch 9 step 400] running training loss: 0.209\n",
      "[epoch 9 step 600] running training loss: 0.221\n",
      "[epoch 9] val loss: 0.333, accuracy: 88.133%\n",
      "validation loss stops decreasing for 1 epoch\n",
      "--------------------------------------------\n",
      "[epoch 10 step 200] running training loss: 0.203\n",
      "[epoch 10 step 400] running training loss: 0.200\n",
      "[epoch 10 step 600] running training loss: 0.197\n",
      "[epoch 10] val loss: 0.305, accuracy: 89.400%\n",
      "current best validation loss: 0.305\n",
      "=====>save the best model\n",
      "--------------------------------------------\n",
      "[epoch 11 step 200] running training loss: 0.185\n",
      "[epoch 11 step 400] running training loss: 0.186\n",
      "[epoch 11 step 600] running training loss: 0.201\n",
      "[epoch 11] val loss: 0.307, accuracy: 89.358%\n",
      "validation loss stops decreasing for 1 epoch\n",
      "--------------------------------------------\n",
      "[epoch 12 step 200] running training loss: 0.173\n",
      "[epoch 12 step 400] running training loss: 0.184\n",
      "[epoch 12 step 600] running training loss: 0.186\n",
      "[epoch 12] val loss: 0.349, accuracy: 87.383%\n",
      "validation loss stops decreasing for 2 epoch\n",
      "--------------------------------------------\n",
      "[epoch 13 step 200] running training loss: 0.175\n",
      "[epoch 13 step 400] running training loss: 0.178\n",
      "[epoch 13 step 600] running training loss: 0.181\n",
      "[epoch 13] val loss: 0.325, accuracy: 88.583%\n",
      "validation loss stops decreasing for 3 epoch\n",
      "--------------------------------------------\n",
      "[epoch 14 step 200] running training loss: 0.160\n",
      "[epoch 14 step 400] running training loss: 0.173\n",
      "[epoch 14 step 600] running training loss: 0.173\n",
      "[epoch 14] val loss: 0.334, accuracy: 89.050%\n",
      "validation loss stops decreasing for 4 epoch\n",
      "--------------------------------------------\n",
      "[epoch 15 step 200] running training loss: 0.157\n",
      "[epoch 15 step 400] running training loss: 0.162\n",
      "[epoch 15 step 600] running training loss: 0.162\n",
      "[epoch 15] val loss: 0.327, accuracy: 88.933%\n",
      "validation loss stops decreasing for 5 epoch\n",
      "early stopping criteria satisfied\n",
      "stop training at epoch 15\n"
     ]
    }
   ],
   "source": [
    "best_val_loss = float('inf')\n",
    "early_stopping_step = 0\n",
    "\n",
    "# training loop\n",
    "for epoch in range(num_epochs):\n",
    "    running_train_loss = 0.0 # running loss for every 200 steps during training\n",
    "    train_loss = 0.0 # accumulated training loss for the entire epoch\n",
    "    num_train_samples = 0 \n",
    "    correct = 0\n",
    "    clf.train() # switch to training mode\n",
    "    # loop over batches\n",
    "    for batch_idx, (images, targets) in enumerate(train_loader):\n",
    "        # transfer data to gpu if available\n",
    "        images, targets = images.to(device), targets.to(device)\n",
    "        #print(images.shape, targets.shape)\n",
    "        \n",
    "        # reshape the images to appropriate shape\n",
    "        batch_size = images.shape[0]\n",
    "        images = images.reshape(batch_size, -1) #(64, 1, 28, 28)->(64, 28*28)\n",
    "        \n",
    "        # forward pass\n",
    "        preds = clf(images)\n",
    "        loss = criterion(preds, targets)\n",
    "        \n",
    "        # back prop\n",
    "        optimizer.zero_grad() # clear the calculated gradients from the last batch\n",
    "        loss.backward()\n",
    "        \n",
    "        # update model params\n",
    "        optimizer.step()\n",
    "        \n",
    "        # evaluate performance for each batch\n",
    "        running_train_loss += loss.item()\n",
    "        train_loss += loss.item() * batch_size\n",
    "        num_train_samples += batch_size\n",
    "        _, pred_labels = torch.max(preds, dim=1) #(64, 10)\n",
    "        correct += (pred_labels==targets).sum().item()\n",
    "\n",
    "        # print training stat every 200 steps\n",
    "        if ((batch_idx+1) % 200==0):\n",
    "            print(f\"[epoch {epoch} step {batch_idx+1}] running training loss: {running_train_loss/200:.3f}\")\n",
    "            running_train_loss = 0.0 # reset running train loss every 200 steps\n",
    "    \n",
    "    epoch_train_loss= train_loss/num_train_samples\n",
    "    epoch_train_acc= correct/num_train_samples\n",
    "            \n",
    "    # evaluate on the validation set every epoch\n",
    "    clf.eval() # switch to evaluation mode\n",
    "    val_loss = 0.0\n",
    "    num_val_samples = 0 \n",
    "    correct = 0\n",
    "    for images, targets in val_loader:\n",
    "        # load and reshape the data\n",
    "        images, targets = images.to(device), targets.to(device)\n",
    "        batch_size = images.shape[0]\n",
    "        images = images.reshape(batch_size, -1)\n",
    "        \n",
    "        # forward pass\n",
    "        preds = clf(images)\n",
    "        \n",
    "        loss = criterion(preds, targets)\n",
    "        val_loss += loss.item() * images.shape[0]\n",
    "        num_val_samples += batch_size\n",
    "        # calculate accuracy\n",
    "        preds = clf(images) # shape: [batch, #classes]\n",
    "        _, pred_labels = torch.max(preds, dim=1)\n",
    "        correct += (pred_labels==targets).sum().item()\n",
    "    epoch_val_loss= val_loss/num_val_samples\n",
    "    epoch_val_acc= correct/num_val_samples\n",
    "    print(f\"[epoch {epoch}] val loss: {epoch_val_loss:.3f}, accuracy: {100*epoch_val_acc:.3f}%\")\n",
    "    \n",
    "    # update train_state dict\n",
    "    train_state['train_loss'].append(epoch_train_loss)\n",
    "    train_state['train_acc'].append(epoch_train_acc)\n",
    "    train_state['val_loss'].append(epoch_val_loss)\n",
    "    train_state['val_acc'].append(epoch_val_acc)\n",
    "    \n",
    "    # early stopping\n",
    "    \n",
    "    # if achieving better validation loss\n",
    "    # 1) reset the early stopping marker\n",
    "    # 2) save the best trained model\n",
    "    if (epoch_val_loss < best_val_loss):\n",
    "        best_val_loss = epoch_val_loss\n",
    "        early_stopping_step = 0\n",
    "        print(f\"current best validation loss: {best_val_loss:.3f}\")\n",
    "        torch.save(clf.state_dict(), saved_model_fn)\n",
    "        print(\"=====>save the best model\")\n",
    "        \n",
    "    # if not for the current epoch\n",
    "    # 3) update the early stopping marker and check whether we should stop training\n",
    "    else:\n",
    "        early_stopping_step += 1\n",
    "        print(f\"validation loss stops decreasing for {early_stopping_step} epoch\")\n",
    "        if (early_stopping_step == early_stopping_criteria):\n",
    "            print(\"early stopping criteria satisfied\")\n",
    "            print(f\"stop training at epoch {epoch}\")\n",
    "            break\n",
    "    print(\"--------------------------------------------\")\n",
    "            "
   ]
  },
  {
   "cell_type": "markdown",
   "metadata": {},
   "source": [
    "### Test the network on the testing set\n",
    "\n",
    "Load the saved best model and evaluate the model with testing data."
   ]
  },
  {
   "cell_type": "code",
   "execution_count": 15,
   "metadata": {},
   "outputs": [
    {
     "name": "stdout",
     "output_type": "stream",
     "text": [
      "apply batch normalization\n",
      "testing loss: 0.336, testing accuracy: 88.410%\n"
     ]
    }
   ],
   "source": [
    "# load the saved best model\n",
    "clf = Multiple_layer_fc_network(input_size=input_size, \n",
    "                                num_classes=num_classes,\n",
    "                                apply_dropout=apply_dropout,\n",
    "                                dropout_p=dropout_p,\n",
    "                                apply_bn=apply_bn)\n",
    "clf.load_state_dict(torch.load(saved_model_fn))\n",
    "clf.to(device)\n",
    "\n",
    "# evaluate on testing set\n",
    "clf.eval()\n",
    "test_loss = 0.0\n",
    "num_test_samples = 0 \n",
    "correct = 0\n",
    "for images, targets in test_loader:\n",
    "    images, targets = images.to(device), targets.to(device)\n",
    "    batch_size = images.shape[0]\n",
    "    images = images.reshape(batch_size, -1)\n",
    "    preds = clf(images)\n",
    "    loss = criterion(preds, targets)\n",
    "    test_loss += loss.item() * images.shape[0]\n",
    "    num_test_samples += batch_size\n",
    "    # calculate accuracy\n",
    "    preds = clf(images)\n",
    "    _, pred_labels = torch.max(preds, dim=1)\n",
    "    correct += (pred_labels==targets).sum().item()\n",
    "print(f\"testing loss: {test_loss/num_test_samples:.3f}, testing accuracy: {100*correct/num_test_samples:.3f}%\")\n"
   ]
  },
  {
   "cell_type": "markdown",
   "metadata": {},
   "source": [
    "### Plot learning curve"
   ]
  },
  {
   "cell_type": "code",
   "execution_count": 16,
   "metadata": {},
   "outputs": [],
   "source": [
    "def plot_learning_curves(train_hist_df, title):\n",
    "    num_epoch = train_hist_df.shape[0]\n",
    "    train_hist_df.plot(figsize=(8, 5), title=title, xticks=range(1, num_epoch+1, 3))\n",
    "    plt.grid(True)\n",
    "    ymin, ymax = 0.95 * train_hist_df.values.min(), min(1.1 * train_hist_df.values.max(), 1.0)\n",
    "    plt.gca().set_ylim(ymin, ymax)\n",
    "    plt.show()"
   ]
  },
  {
   "cell_type": "code",
   "execution_count": 17,
   "metadata": {},
   "outputs": [
    {
     "name": "stdout",
     "output_type": "stream",
     "text": [
      "    train_loss  train_acc  val_loss  val_acc\n",
      "0        0.524      0.832     0.389    0.853\n",
      "1        0.354      0.872     0.357    0.865\n",
      "2        0.317      0.882     0.320    0.883\n",
      "3        0.290      0.893     0.315    0.883\n",
      "4        0.271      0.899     0.329    0.879\n",
      "5        0.256      0.905     0.316    0.881\n",
      "6        0.240      0.910     0.332    0.880\n",
      "7        0.229      0.915     0.313    0.887\n",
      "8        0.220      0.918     0.309    0.885\n",
      "9        0.208      0.922     0.333    0.881\n",
      "10       0.199      0.924     0.305    0.894\n",
      "11       0.192      0.928     0.307    0.894\n",
      "12       0.184      0.932     0.349    0.874\n",
      "13       0.178      0.934     0.325    0.886\n",
      "14       0.170      0.937     0.334    0.890\n",
      "15       0.162      0.939     0.327    0.889\n"
     ]
    },
    {
     "data": {
      "image/png": "[encoded data removed]",
      "text/plain": [
       "<Figure size 576x360 with 1 Axes>"
      ]
     },
     "metadata": {
      "needs_background": "light"
     },
     "output_type": "display_data"
    },
    {
     "data": {
      "image/png": "[encoded data removed]",
      "text/plain": [
       "<Figure size 576x360 with 1 Axes>"
      ]
     },
     "metadata": {
      "needs_background": "light"
     },
     "output_type": "display_data"
    }
   ],
   "source": [
    "train_state_df = pd.DataFrame(train_state)\n",
    "print(train_state_df.round(3))\n",
    "plot_learning_curves(train_state_df[['train_loss', 'val_loss']], \"Loss Curve\")\n",
    "plot_learning_curves(train_state_df[['train_acc', 'val_acc']], \"Accuracy Curve\")"
   ]
  },
  {
   "cell_type": "code",
   "execution_count": null,
   "metadata": {},
   "outputs": [],
   "source": []
  }
 ],
 "metadata": {
  "kernelspec": {
   "display_name": "torch_dev_kernel",
   "language": "python",
   "name": "torch_dev"
  },
  "language_info": {
   "codemirror_mode": {
    "name": "ipython",
    "version": 3
   },
   "file_extension": ".py",
   "mimetype": "text/x-python",
   "name": "python",
   "nbconvert_exporter": "python",
   "pygments_lexer": "ipython3",
   "version": "3.8.8"
  }
 },
 "nbformat": 4,
 "nbformat_minor": 5
}
