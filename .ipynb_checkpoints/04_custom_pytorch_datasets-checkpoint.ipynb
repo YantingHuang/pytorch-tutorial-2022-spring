{
 "cells": [
  {
   "cell_type": "code",
   "execution_count": 1,
   "metadata": {},
   "outputs": [],
   "source": [
    "import torch\n",
    "import torch.nn as nn\n",
    "import torch.optim as optim\n",
    "import torch.nn.functional as F\n",
    "from torch.utils.data import DataLoader\n",
    "from torch.utils.data import Dataset\n",
    "import torchvision.transforms as transforms\n",
    "\n",
    "import pandas as pd\n",
    "import matplotlib.pyplot as plt\n",
    "\n",
    "from skimage import io\n",
    "from skimage.transform import resize\n",
    "\n",
    "import random\n",
    "import sys, os\n",
    "import multiprocessing"
   ]
  },
  {
   "cell_type": "code",
   "execution_count": 2,
   "metadata": {},
   "outputs": [],
   "source": [
    "# use gpu for training if available\n",
    "device = torch.device(\"cuda\" if torch.cuda.is_available() else \"cpu\")"
   ]
  },
  {
   "cell_type": "code",
   "execution_count": 3,
   "metadata": {},
   "outputs": [
    {
     "data": {
      "text/plain": [
       "torch.Size([10, 2, 2, 2])"
      ]
     },
     "execution_count": 3,
     "metadata": {},
     "output_type": "execute_result"
    }
   ],
   "source": [
    "test_c = nn.Conv2d(1, 2, 2, stride=2)\n",
    "test_input = torch.randn(10, 1, 5, 5)\n",
    "test_c(test_input).shape"
   ]
  },
  {
   "cell_type": "markdown",
   "metadata": {},
   "source": [
    "### Model specification\n",
    "Dimension calculation in the 2D convolution layer<br>\n",
    "n_out = (n_in + 2p - k)/s + 1 <br>\n",
    "\n",
    "where,<br>\n",
    "- n_in: number of input features<br>\n",
    "- n_out: number of output features<br>\n",
    "- k: convolution kernel size<br>\n",
    "- p: convolution padding size<br>\n",
    "- s: convolution stride size<br>"
   ]
  },
  {
   "cell_type": "code",
   "execution_count": 4,
   "metadata": {},
   "outputs": [],
   "source": [
    "class Conv_net(nn.Module):\n",
    "    def __init__(self, in_channels, num_classes):\n",
    "        super(Conv_net, self).__init__()\n",
    "        \n",
    "        self.conv1 = nn.Conv2d(in_channels=in_channels, out_channels=12, kernel_size=10, stride=2)\n",
    "        self.conv2 = nn.Conv2d(12, 36, 11)\n",
    "        self.conv3 = nn.Conv2d(36, 108, 11)\n",
    "        self.pool = nn.MaxPool2d(2, 2)\n",
    "        self.fc1 = nn.Linear(108 * 6 * 6, 100)\n",
    "        self.fc2 = nn.Linear(100, num_classes)\n",
    "    \n",
    "    def forward(self, x):\n",
    "        x = F.relu(self.conv1(x)) #（3,224,224）->(12,108,108)\n",
    "        x = self.pool(x) #(12,108,108)->(12,54,54)\n",
    "        x = F.relu(self.conv2(x)) #（12,54,54）->(36,44,44)\n",
    "        x = self.pool(x) #(36,44,44)->(36,22,22)\n",
    "        x = F.relu(self.conv3(x)) #（36,22,22）->(108,12,12)\n",
    "        x = self.pool(x) #(108,12,12)->(108,6,6)\n",
    "        x = x.view(-1, 108 * 6 * 6)\n",
    "        x = F.relu(self.fc1(x))\n",
    "        x = self.fc2(x)\n",
    "        return x"
   ]
  },
  {
   "cell_type": "markdown",
   "metadata": {},
   "source": [
    "### Dimensionality checking with random inputs\n",
    "Recommend to do so to ensure the data flow in your model is as you expected"
   ]
  },
  {
   "cell_type": "code",
   "execution_count": 5,
   "metadata": {},
   "outputs": [
    {
     "name": "stdout",
     "output_type": "stream",
     "text": [
      "torch.Size([64, 2])\n"
     ]
    }
   ],
   "source": [
    "x = torch.randn(64, 3, 224, 224)\n",
    "model = Conv_net(in_channels=3, num_classes=2)\n",
    "out = model(x)\n",
    "print(out.shape)"
   ]
  },
  {
   "cell_type": "markdown",
   "metadata": {},
   "source": [
    "### Global Variables Specification\n",
    "Configure this part to your preferred setting before you start training"
   ]
  },
  {
   "cell_type": "code",
   "execution_count": 6,
   "metadata": {},
   "outputs": [],
   "source": [
    "num_classes = 2\n",
    "learning_rate = 0.001\n",
    "batch_size = 128\n",
    "num_epochs = 50\n",
    "num_workers = 16 # multiprocessing.cpu_count() \n",
    "in_channels = 3 # dogs vs cats images have 3 channels\n",
    "early_stopping_criteria= 5\n",
    "\n",
    "train_proportion = 0.8\n",
    "val_proportion = 0.1\n",
    "test_proportion = 0.1\n",
    "\n",
    "data_dir = \"/mnt/addtional_data_ssd/pytorch-tutorial-2022-spring/data\" # change this path to your preferred directory to store fashion minst data\n",
    "model_dir = \"/mnt/addtional_data_ssd/pytorch-tutorial-2022-spring/model\" \n",
    "image_root_dir = os.path.join(data_dir, \"dogs-vs-cats\", \"images\")\n",
    "\n",
    "csv_fn = os.path.join(data_dir, \"dogs-vs-cats\", \"cats_dogs_labels.csv\")\n",
    "saved_model_fn = os.path.join(model_dir, \"best_cnn_catsdogs_model.pt\")"
   ]
  },
  {
   "cell_type": "markdown",
   "metadata": {},
   "source": [
    "### Custom Dataset \n",
    "Data adapted from this famous [dogs vs. cats](https://www.kaggle.com/c/dogs-vs-cats) kaggle competition\n",
    "\n",
    "Three functions that need to be implemented for custom dataset:\n",
    "1. \\__init__(): data loading and class attributes definition\n",
    "2. \\__len__(): the way to decide the length of the dataset\n",
    "3. \\__getitem__(): support the indexing of the dataset"
   ]
  },
  {
   "cell_type": "code",
   "execution_count": 7,
   "metadata": {},
   "outputs": [],
   "source": [
    "class CatsAndDogDataset(Dataset):\n",
    "    def __init__(self, csv_fn, image_root_dir, transform=None):\n",
    "        self.annotations = pd.read_csv(csv_fn)\n",
    "        self.image_root_dir = image_root_dir\n",
    "        self.transform = transform\n",
    "    \n",
    "    def __len__(self):\n",
    "        return len(self.annotations)\n",
    "    \n",
    "    def __getitem__(self, index):\n",
    "        img_path = os.path.join(self.image_root_dir, self.annotations.iloc[index, 0])\n",
    "        image = io.imread(img_path)\n",
    "        image = resize(image, (224, 224)) \n",
    "        y_label = torch.tensor(int(self.annotations.iloc[index, 1]))\n",
    "        image = torch.from_numpy(image).permute(2, 0, 1).float()\n",
    "        if self.transform:\n",
    "            image = self.transform(image)\n",
    "        return (image, y_label)"
   ]
  },
  {
   "cell_type": "code",
   "execution_count": 8,
   "metadata": {},
   "outputs": [
    {
     "name": "stdout",
     "output_type": "stream",
     "text": [
      "torch.Size([3, 224, 224])\n",
      "tensor(1)\n"
     ]
    }
   ],
   "source": [
    "dataset = CatsAndDogDataset(csv_fn=csv_fn, image_root_dir=image_root_dir)\n",
    "image, label = dataset[0]\n",
    "print(image.shape)\n",
    "print(label)"
   ]
  },
  {
   "cell_type": "code",
   "execution_count": 9,
   "metadata": {},
   "outputs": [
    {
     "name": "stdout",
     "output_type": "stream",
     "text": [
      "number samples in train: 20000\n",
      "number samples in val: 2500\n",
      "number samples in test: 2500\n"
     ]
    }
   ],
   "source": [
    "train_size = int(len(dataset) * train_proportion)\n",
    "val_size = int(len(dataset) * val_proportion)\n",
    "test_size = len(dataset) - train_size - val_size\n",
    "\n",
    "print(f\"number samples in train: {train_size}\")\n",
    "print(f\"number samples in val: {val_size}\")\n",
    "print(f\"number samples in test: {test_size}\")\n",
    "\n",
    "train_dataset, val_dataset, test_dataset = torch.utils.data.random_split(dataset, [train_size, val_size, test_size])"
   ]
  },
  {
   "cell_type": "code",
   "execution_count": 10,
   "metadata": {},
   "outputs": [],
   "source": [
    "train_loader = DataLoader(dataset=train_dataset, batch_size=batch_size, shuffle=True, num_workers=num_workers)\n",
    "val_loader = DataLoader(dataset=val_dataset, batch_size=batch_size, shuffle=False, num_workers=num_workers)\n",
    "test_loader = DataLoader(dataset=test_dataset, batch_size=batch_size, shuffle=False, num_workers=num_workers)"
   ]
  },
  {
   "cell_type": "code",
   "execution_count": 11,
   "metadata": {},
   "outputs": [
    {
     "name": "stdout",
     "output_type": "stream",
     "text": [
      "The 2nd input image has shape: torch.Size([3, 224, 224]) after resizing\n"
     ]
    }
   ],
   "source": [
    "# check the dimensions of the data\n",
    "image, target = train_dataset[2]\n",
    "print(f\"The 2nd input image has shape: {image.shape} after resizing\")"
   ]
  },
  {
   "cell_type": "markdown",
   "metadata": {},
   "source": [
    "### Model Initialization, Loss, Optimizer"
   ]
  },
  {
   "cell_type": "code",
   "execution_count": 12,
   "metadata": {},
   "outputs": [
    {
     "name": "stdout",
     "output_type": "stream",
     "text": [
      "Conv_net(\n",
      "  (conv1): Conv2d(3, 12, kernel_size=(10, 10), stride=(2, 2))\n",
      "  (conv2): Conv2d(12, 36, kernel_size=(11, 11), stride=(1, 1))\n",
      "  (conv3): Conv2d(36, 108, kernel_size=(11, 11), stride=(1, 1))\n",
      "  (pool): MaxPool2d(kernel_size=2, stride=2, padding=0, dilation=1, ceil_mode=False)\n",
      "  (fc1): Linear(in_features=3888, out_features=100, bias=True)\n",
      "  (fc2): Linear(in_features=100, out_features=2, bias=True)\n",
      ")\n"
     ]
    }
   ],
   "source": [
    "# instantiate the model\n",
    "clf = Conv_net(in_channels=in_channels, num_classes=num_classes)\n",
    "clf.to(device) # move the model to gpu if available\n",
    "print(clf)\n",
    "\n",
    "# instantiate the loss and the optimizer\n",
    "criterion = nn.CrossEntropyLoss()\n",
    "optimizer = optim.Adam(clf.parameters(), lr=learning_rate)"
   ]
  },
  {
   "cell_type": "markdown",
   "metadata": {},
   "source": [
    "### Initialize a dictionary to record training progress"
   ]
  },
  {
   "cell_type": "code",
   "execution_count": 13,
   "metadata": {},
   "outputs": [],
   "source": [
    "train_state = {\n",
    "    \"train_loss\": [],\n",
    "    \"train_acc\": [],\n",
    "    \"val_loss\": [],\n",
    "    \"val_acc\": []\n",
    "}"
   ]
  },
  {
   "cell_type": "markdown",
   "metadata": {},
   "source": [
    "### Train the model\n",
    "[Model saving and loading](https://pytorch.org/tutorials/beginner/saving_loading_models.html)"
   ]
  },
  {
   "cell_type": "code",
   "execution_count": 14,
   "metadata": {},
   "outputs": [
    {
     "name": "stdout",
     "output_type": "stream",
     "text": [
      "[epoch 0 step 20] running training loss: 0.695\n",
      "[epoch 0 step 40] running training loss: 0.693\n",
      "[epoch 0 step 60] running training loss: 0.689\n",
      "[epoch 0 step 80] running training loss: 0.682\n",
      "[epoch 0 step 100] running training loss: 0.691\n",
      "[epoch 0 step 120] running training loss: 0.677\n",
      "[epoch 0 step 140] running training loss: 0.673\n",
      "[epoch 0] val loss: 0.687, accuracy: 59.480%\n",
      "current best validation loss: 0.687\n",
      "=====>save the best model\n",
      "--------------------------------------------\n",
      "[epoch 1 step 20] running training loss: 0.672\n",
      "[epoch 1 step 40] running training loss: 0.656\n",
      "[epoch 1 step 60] running training loss: 0.639\n",
      "[epoch 1 step 80] running training loss: 0.648\n",
      "[epoch 1 step 100] running training loss: 0.643\n",
      "[epoch 1 step 120] running training loss: 0.638\n",
      "[epoch 1 step 140] running training loss: 0.628\n",
      "[epoch 1] val loss: 0.658, accuracy: 63.680%\n",
      "current best validation loss: 0.658\n",
      "=====>save the best model\n",
      "--------------------------------------------\n",
      "[epoch 2 step 20] running training loss: 0.595\n",
      "[epoch 2 step 40] running training loss: 0.606\n",
      "[epoch 2 step 60] running training loss: 0.598\n",
      "[epoch 2 step 80] running training loss: 0.581\n",
      "[epoch 2 step 100] running training loss: 0.563\n",
      "[epoch 2 step 120] running training loss: 0.559\n",
      "[epoch 2 step 140] running training loss: 0.543\n",
      "[epoch 2] val loss: 0.553, accuracy: 72.320%\n",
      "current best validation loss: 0.553\n",
      "=====>save the best model\n",
      "--------------------------------------------\n",
      "[epoch 3 step 20] running training loss: 0.535\n",
      "[epoch 3 step 40] running training loss: 0.515\n",
      "[epoch 3 step 60] running training loss: 0.506\n",
      "[epoch 3 step 80] running training loss: 0.528\n",
      "[epoch 3 step 100] running training loss: 0.493\n",
      "[epoch 3 step 120] running training loss: 0.491\n",
      "[epoch 3 step 140] running training loss: 0.492\n",
      "[epoch 3] val loss: 0.506, accuracy: 75.000%\n",
      "current best validation loss: 0.506\n",
      "=====>save the best model\n",
      "--------------------------------------------\n",
      "[epoch 4 step 20] running training loss: 0.440\n",
      "[epoch 4 step 40] running training loss: 0.465\n",
      "[epoch 4 step 60] running training loss: 0.459\n",
      "[epoch 4 step 80] running training loss: 0.453\n",
      "[epoch 4 step 100] running training loss: 0.450\n",
      "[epoch 4 step 120] running training loss: 0.438\n",
      "[epoch 4 step 140] running training loss: 0.452\n",
      "[epoch 4] val loss: 0.514, accuracy: 75.080%\n",
      "validation loss stops decreasing for 1 epoch\n",
      "--------------------------------------------\n",
      "[epoch 5 step 20] running training loss: 0.380\n",
      "[epoch 5 step 40] running training loss: 0.396\n",
      "[epoch 5 step 60] running training loss: 0.410\n",
      "[epoch 5 step 80] running training loss: 0.403\n",
      "[epoch 5 step 100] running training loss: 0.388\n",
      "[epoch 5 step 120] running training loss: 0.406\n",
      "[epoch 5 step 140] running training loss: 0.388\n",
      "[epoch 5] val loss: 0.485, accuracy: 77.680%\n",
      "current best validation loss: 0.485\n",
      "=====>save the best model\n",
      "--------------------------------------------\n",
      "[epoch 6 step 20] running training loss: 0.314\n",
      "[epoch 6 step 40] running training loss: 0.307\n",
      "[epoch 6 step 60] running training loss: 0.335\n",
      "[epoch 6 step 80] running training loss: 0.342\n",
      "[epoch 6 step 100] running training loss: 0.321\n",
      "[epoch 6 step 120] running training loss: 0.341\n",
      "[epoch 6 step 140] running training loss: 0.338\n",
      "[epoch 6] val loss: 0.486, accuracy: 77.760%\n",
      "validation loss stops decreasing for 1 epoch\n",
      "--------------------------------------------\n",
      "[epoch 7 step 20] running training loss: 0.229\n",
      "[epoch 7 step 40] running training loss: 0.253\n",
      "[epoch 7 step 60] running training loss: 0.251\n",
      "[epoch 7 step 80] running training loss: 0.248\n",
      "[epoch 7 step 100] running training loss: 0.277\n",
      "[epoch 7 step 120] running training loss: 0.263\n",
      "[epoch 7 step 140] running training loss: 0.251\n",
      "[epoch 7] val loss: 0.542, accuracy: 77.160%\n",
      "validation loss stops decreasing for 2 epoch\n",
      "--------------------------------------------\n",
      "[epoch 8 step 20] running training loss: 0.166\n",
      "[epoch 8 step 40] running training loss: 0.167\n",
      "[epoch 8 step 60] running training loss: 0.181\n",
      "[epoch 8 step 80] running training loss: 0.166\n",
      "[epoch 8 step 100] running training loss: 0.206\n",
      "[epoch 8 step 120] running training loss: 0.202\n",
      "[epoch 8 step 140] running training loss: 0.205\n",
      "[epoch 8] val loss: 0.663, accuracy: 77.440%\n",
      "validation loss stops decreasing for 3 epoch\n",
      "--------------------------------------------\n",
      "[epoch 9 step 20] running training loss: 0.119\n",
      "[epoch 9 step 40] running training loss: 0.112\n",
      "[epoch 9 step 60] running training loss: 0.115\n",
      "[epoch 9 step 80] running training loss: 0.106\n",
      "[epoch 9 step 100] running training loss: 0.110\n",
      "[epoch 9 step 120] running training loss: 0.110\n",
      "[epoch 9 step 140] running training loss: 0.130\n",
      "[epoch 9] val loss: 0.835, accuracy: 76.880%\n",
      "validation loss stops decreasing for 4 epoch\n",
      "--------------------------------------------\n",
      "[epoch 10 step 20] running training loss: 0.083\n",
      "[epoch 10 step 40] running training loss: 0.077\n",
      "[epoch 10 step 60] running training loss: 0.075\n",
      "[epoch 10 step 80] running training loss: 0.079\n",
      "[epoch 10 step 100] running training loss: 0.093\n",
      "[epoch 10 step 120] running training loss: 0.094\n",
      "[epoch 10 step 140] running training loss: 0.128\n",
      "[epoch 10] val loss: 0.869, accuracy: 76.360%\n",
      "validation loss stops decreasing for 5 epoch\n",
      "early stopping criteria reached\n"
     ]
    }
   ],
   "source": [
    "best_val_loss = float('inf')\n",
    "early_stopping_step = 0\n",
    "\n",
    "for epoch in range(num_epochs):\n",
    "    running_train_loss = 0.0 # running loss for every 200 steps during training\n",
    "    train_loss = 0.0 # accumulated training loss for the entire epoch\n",
    "    num_train_samples = 0 \n",
    "    correct = 0\n",
    "    clf.train() # switch to training mode\n",
    "    for batch_idx, (images, targets) in enumerate(train_loader):\n",
    "        # transfer data to gpu if available\n",
    "        images, targets = images.to(device), targets.to(device)\n",
    "        #print(images.shape, targets.shape)\n",
    "        \n",
    "        # reshape the images to proper shape\n",
    "        batch_size = images.shape[0]\n",
    "        \n",
    "        # forward pass\n",
    "        preds = clf(images)\n",
    "        loss = criterion(preds, targets)\n",
    "        \n",
    "        # back prop\n",
    "        optimizer.zero_grad()\n",
    "        loss.backward()\n",
    "        \n",
    "        # update model params\n",
    "        optimizer.step()\n",
    "        \n",
    "        # evaluate performance for each batch\n",
    "        running_train_loss += loss.item()\n",
    "        train_loss += loss.item() * batch_size\n",
    "        num_train_samples += batch_size\n",
    "        _, pred_labels = torch.max(preds, dim=1)\n",
    "        correct += (pred_labels==targets).sum().item()\n",
    "\n",
    "        # print training stat every 20 steps\n",
    "        if ((batch_idx+1) % 20==0):\n",
    "            print(f\"[epoch {epoch} step {batch_idx+1}] running training loss: {running_train_loss/20:.3f}\")\n",
    "            running_train_loss = 0.0\n",
    "    \n",
    "    epoch_train_loss= train_loss/num_train_samples\n",
    "    epoch_train_acc= correct/num_train_samples\n",
    "            \n",
    "    # evaluate on the validation set every epoch\n",
    "    clf.eval() # switch to evaluation mode\n",
    "    val_loss = 0.0\n",
    "    num_val_samples = 0 \n",
    "    correct = 0\n",
    "    for images, targets in val_loader:\n",
    "        images, targets = images.to(device), targets.to(device)\n",
    "        batch_size = images.shape[0]\n",
    "        preds = clf(images)\n",
    "        loss = criterion(preds, targets)\n",
    "        val_loss += loss.item() * images.shape[0]\n",
    "        num_val_samples += batch_size\n",
    "        # calculate accuracy\n",
    "        preds = clf(images)\n",
    "        _, pred_labels = torch.max(preds, dim=1)\n",
    "        correct += (pred_labels==targets).sum().item()\n",
    "    epoch_val_loss= val_loss/num_val_samples\n",
    "    epoch_val_acc= correct/num_val_samples\n",
    "    print(f\"[epoch {epoch}] val loss: {epoch_val_loss:.3f}, accuracy: {100*epoch_val_acc:.3f}%\")\n",
    "    \n",
    "    # update train_state dict\n",
    "    train_state['train_loss'].append(epoch_train_loss)\n",
    "    train_state['train_acc'].append(epoch_train_acc)\n",
    "    train_state['val_loss'].append(epoch_val_loss)\n",
    "    train_state['val_acc'].append(epoch_val_acc)\n",
    "    \n",
    "    # early stopping\n",
    "    if (epoch_val_loss < best_val_loss):\n",
    "        best_val_loss = epoch_val_loss\n",
    "        early_stopping_step = 0\n",
    "        print(f\"current best validation loss: {best_val_loss:.3f}\")\n",
    "        torch.save(clf.state_dict(), saved_model_fn)\n",
    "        print(\"=====>save the best model\")\n",
    "    else:\n",
    "        early_stopping_step += 1\n",
    "        print(f\"validation loss stops decreasing for {early_stopping_step} epoch\")\n",
    "        if (early_stopping_step==early_stopping_criteria):\n",
    "            print(\"early stopping criteria reached\")\n",
    "            break\n",
    "    print(\"--------------------------------------------\")\n",
    "            "
   ]
  },
  {
   "cell_type": "markdown",
   "metadata": {},
   "source": [
    "### Test the network on the test data"
   ]
  },
  {
   "cell_type": "code",
   "execution_count": 15,
   "metadata": {},
   "outputs": [
    {
     "name": "stdout",
     "output_type": "stream",
     "text": [
      "testing loss: 0.497, testing accuracy: 78.280%\n"
     ]
    }
   ],
   "source": [
    "# load the saved best model\n",
    "clf = Conv_net(in_channels=in_channels, num_classes=num_classes)\n",
    "clf.load_state_dict(torch.load(saved_model_fn))\n",
    "clf.to(device) # move the model to gpu if available\n",
    "\n",
    "clf.eval()\n",
    "test_loss = 0.0\n",
    "num_test_samples = 0 \n",
    "correct = 0\n",
    "for images, targets in test_loader:\n",
    "    images, targets = images.to(device), targets.to(device)\n",
    "    batch_size = images.shape[0]\n",
    "    preds = clf(images)\n",
    "    loss = criterion(preds, targets)\n",
    "    test_loss += loss.item() * images.shape[0]\n",
    "    num_test_samples += batch_size\n",
    "    # calculate accuracy\n",
    "    preds = clf(images)\n",
    "    _, pred_labels = torch.max(preds, dim=1)\n",
    "    correct += (pred_labels==targets).sum().item()\n",
    "print(f\"testing loss: {test_loss/num_test_samples:.3f}, testing accuracy: {100*correct/num_test_samples:.3f}%\")\n"
   ]
  },
  {
   "cell_type": "markdown",
   "metadata": {},
   "source": [
    "### Plot learning curve"
   ]
  },
  {
   "cell_type": "code",
   "execution_count": 16,
   "metadata": {},
   "outputs": [],
   "source": [
    "def plot_learning_curves(train_hist_df, title):\n",
    "    num_epoch = train_hist_df.shape[0]\n",
    "    train_hist_df.plot(figsize=(8, 5), title=title, xticks=range(1, num_epoch+1, 3))\n",
    "    plt.grid(True)\n",
    "    ymin, ymax = 0.95 * train_hist_df.values.min(), min(1.1 * train_hist_df.values.max(), 1.0)\n",
    "    plt.gca().set_ylim(ymin, ymax)\n",
    "    plt.show()"
   ]
  },
  {
   "cell_type": "code",
   "execution_count": 17,
   "metadata": {},
   "outputs": [
    {
     "name": "stdout",
     "output_type": "stream",
     "text": [
      "    train_loss  train_acc  val_loss  val_acc\n",
      "0     0.681695    0.55520  0.687360   0.5948\n",
      "1     0.642651    0.64070  0.658145   0.6368\n",
      "2     0.574200    0.70650  0.552681   0.7232\n",
      "3     0.508176    0.75335  0.506170   0.7500\n",
      "4     0.449819    0.79125  0.513602   0.7508\n",
      "5     0.392858    0.82230  0.485418   0.7768\n",
      "6     0.327312    0.85600  0.485679   0.7776\n",
      "7     0.256139    0.89265  0.541960   0.7716\n",
      "8     0.186386    0.92615  0.662531   0.7744\n",
      "9     0.115791    0.95510  0.834779   0.7688\n",
      "10    0.090405    0.96695  0.869479   0.7636\n"
     ]
    },
    {
     "data": {
      "image/png": "[encoded data removed]",
      "text/plain": [
       "<Figure size 576x360 with 1 Axes>"
      ]
     },
     "metadata": {
      "needs_background": "light"
     },
     "output_type": "display_data"
    },
    {
     "data": {
      "image/png": "[encoded data removed]",
      "text/plain": [
       "<Figure size 576x360 with 1 Axes>"
      ]
     },
     "metadata": {
      "needs_background": "light"
     },
     "output_type": "display_data"
    }
   ],
   "source": [
    "train_state_df = pd.DataFrame(train_state)\n",
    "print(train_state_df)\n",
    "plot_learning_curves(train_state_df[['train_loss', 'val_loss']], \"Loss Curve\")\n",
    "plot_learning_curves(train_state_df[['train_acc', 'val_acc']], \"Accuracy Curve\")"
   ]
  },
  {
   "cell_type": "code",
   "execution_count": null,
   "metadata": {},
   "outputs": [],
   "source": []
  }
 ],
 "metadata": {
  "kernelspec": {
   "display_name": "torch_dev_kernel",
   "language": "python",
   "name": "torch_dev"
  },
  "language_info": {
   "codemirror_mode": {
    "name": "ipython",
    "version": 3
   },
   "file_extension": ".py",
   "mimetype": "text/x-python",
   "name": "python",
   "nbconvert_exporter": "python",
   "pygments_lexer": "ipython3",
   "version": "3.8.8"
  }
 },
 "nbformat": 4,
 "nbformat_minor": 5
}
