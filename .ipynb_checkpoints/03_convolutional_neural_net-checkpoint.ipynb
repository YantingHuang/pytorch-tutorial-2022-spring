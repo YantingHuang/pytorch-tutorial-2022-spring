{
 "cells": [
  {
   "cell_type": "code",
   "execution_count": 1,
   "metadata": {},
   "outputs": [],
   "source": [
    "import torch\n",
    "import torch.nn as nn\n",
    "import torch.optim as optim\n",
    "import torch.nn.functional as F\n",
    "from torch.utils.data import DataLoader\n",
    "import torchvision.datasets as datasets\n",
    "import torchvision.transforms as transforms\n",
    "\n",
    "import pandas as pd\n",
    "import matplotlib.pyplot as plt\n",
    "\n",
    "import random\n",
    "import sys, os\n",
    "import multiprocessing"
   ]
  },
  {
   "cell_type": "code",
   "execution_count": 2,
   "metadata": {},
   "outputs": [],
   "source": [
    "# use gpu for training if available\n",
    "device = torch.device(\"cuda\" if torch.cuda.is_available() else \"cpu\")"
   ]
  },
  {
   "cell_type": "markdown",
   "metadata": {},
   "source": [
    "### Model specification\n",
    "Dimension calculation in the 2D convolution layer\n",
    "\n",
    "n_out = (n_in + 2p - k)/s + 1 \n",
    "\n",
    "where,<br>\n",
    "- n_in: number of input features\n",
    "- n_out: number of output features\n",
    "- k: convolution kernel size\n",
    "- p: convolution padding size\n",
    "- s: convolution stride size"
   ]
  },
  {
   "cell_type": "code",
   "execution_count": 3,
   "metadata": {},
   "outputs": [],
   "source": [
    "class Conv_net(nn.Module):\n",
    "    def __init__(self, in_channels, num_classes):\n",
    "        super(Conv_net, self).__init__()\n",
    "        \n",
    "        self.conv1 = nn.Conv2d(in_channels=in_channels, out_channels=12, kernel_size=3)\n",
    "        self.conv2 = nn.Conv2d(12, 48, 4)\n",
    "        self.pool = nn.MaxPool2d(2, 2)\n",
    "        self.fc1 = nn.Linear(48 * 5 * 5, 100)\n",
    "        self.fc2 = nn.Linear(100, num_classes)\n",
    "    \n",
    "    def forward(self, x):\n",
    "        x = F.relu(self.conv1(x)) #（1,28,28）->(12,26,26)\n",
    "        x = self.pool(x) #(12,26,26)->(12,13,13)\n",
    "        x = F.relu(self.conv2(x)) #（12,13,13）->(48,10,10)\n",
    "        x = self.pool(x) #(48,10,10)->(48,5,5)\n",
    "        x = x.view(-1, 48 * 5 * 5)\n",
    "        x = F.relu(self.fc1(x))\n",
    "        x = self.fc2(x)\n",
    "        return x"
   ]
  },
  {
   "cell_type": "markdown",
   "metadata": {},
   "source": [
    "### Dimensionality checking with randomly generated inputs\n",
    "Recommend to do so to ensure the data flow in your model is as you expected"
   ]
  },
  {
   "cell_type": "code",
   "execution_count": 4,
   "metadata": {},
   "outputs": [
    {
     "name": "stdout",
     "output_type": "stream",
     "text": [
      "torch.Size([64, 10])\n"
     ]
    }
   ],
   "source": [
    "x = torch.randn(64, 1, 28, 28) # fake data with the same shape as batch input\n",
    "model = Conv_net(in_channels=1, num_classes=10)\n",
    "out = model(x)\n",
    "print(out.shape)"
   ]
  },
  {
   "cell_type": "markdown",
   "metadata": {},
   "source": [
    "### Global Variables Specification\n",
    "Configure this part to your preferred setting before you start training"
   ]
  },
  {
   "cell_type": "code",
   "execution_count": 5,
   "metadata": {},
   "outputs": [],
   "source": [
    "num_classes = 10\n",
    "learning_rate = 0.001\n",
    "batch_size = 64\n",
    "num_epochs = 50\n",
    "num_workers = 16 # multiprocessing.cpu_count() \n",
    "in_channels = 1 # fashion-mnist image only has 1 channel\n",
    "early_stopping_criteria= 5\n",
    "\n",
    "random_seed = 20220215 # random seed for reproducibility\n",
    "\n",
    "val_proportion = 0.2\n",
    "\n",
    "data_dir = \"/mnt/addtional_data_ssd/pytorch-tutorial-2022-spring/data\" # change this path to your preferred directory to store fashion minst data\n",
    "model_dir = \"/mnt/addtional_data_ssd/pytorch-tutorial-2022-spring/model\" \n",
    "\n",
    "saved_model_fn = os.path.join(model_dir, \"best_cnn_fmnist_model.pt\")"
   ]
  },
  {
   "cell_type": "markdown",
   "metadata": {},
   "source": [
    "### Set up Dataset and DataLoader"
   ]
  },
  {
   "cell_type": "code",
   "execution_count": 6,
   "metadata": {},
   "outputs": [
    {
     "name": "stdout",
     "output_type": "stream",
     "text": [
      "number samples in train: 48000\n",
      "number samples in val: 12000\n",
      "number samples in test: 10000\n"
     ]
    }
   ],
   "source": [
    "train_dataset = datasets.FashionMNIST(root=data_dir, train=True, transform=transforms.ToTensor(), download=True)\n",
    "test_dataset  = datasets.FashionMNIST(root=data_dir, train=False, transform=transforms.ToTensor(), download=True)\n",
    "\n",
    "\n",
    "val_size = int(val_proportion*len(train_dataset))\n",
    "train_size = len(train_dataset) - val_size\n",
    "test_size = len(test_dataset)\n",
    "\n",
    "print(f\"number samples in train: {train_size}\")\n",
    "print(f\"number samples in val: {val_size}\")\n",
    "print(f\"number samples in test: {test_size}\")\n",
    "\n",
    "train_dataset, val_dataset = torch.utils.data.random_split(dataset=train_dataset, \n",
    "                                                           lengths=[train_size, val_size],\n",
    "                                                           generator=torch.Generator().manual_seed(random_seed))"
   ]
  },
  {
   "cell_type": "code",
   "execution_count": 7,
   "metadata": {},
   "outputs": [],
   "source": [
    "train_loader = DataLoader(dataset=train_dataset, batch_size=batch_size, shuffle=True, num_workers=num_workers)\n",
    "val_loader = DataLoader(dataset=val_dataset, batch_size=batch_size, shuffle=False, num_workers=num_workers)\n",
    "test_loader = DataLoader(dataset=test_dataset, batch_size=batch_size, shuffle=False, num_workers=num_workers)"
   ]
  },
  {
   "cell_type": "code",
   "execution_count": 8,
   "metadata": {},
   "outputs": [
    {
     "name": "stdout",
     "output_type": "stream",
     "text": [
      "input image has shape:\n",
      "torch.Size([1, 28, 28])\n"
     ]
    }
   ],
   "source": [
    "# check the dimensions of the data\n",
    "image, target = train_dataset[0]\n",
    "print(\"input image has shape:\")\n",
    "print(image.shape)"
   ]
  },
  {
   "cell_type": "markdown",
   "metadata": {},
   "source": [
    "### Model Initialization, Loss, Optimizer"
   ]
  },
  {
   "cell_type": "code",
   "execution_count": 9,
   "metadata": {},
   "outputs": [
    {
     "name": "stdout",
     "output_type": "stream",
     "text": [
      "Conv_net(\n",
      "  (conv1): Conv2d(1, 12, kernel_size=(3, 3), stride=(1, 1))\n",
      "  (conv2): Conv2d(12, 48, kernel_size=(4, 4), stride=(1, 1))\n",
      "  (pool): MaxPool2d(kernel_size=2, stride=2, padding=0, dilation=1, ceil_mode=False)\n",
      "  (fc1): Linear(in_features=1200, out_features=100, bias=True)\n",
      "  (fc2): Linear(in_features=100, out_features=10, bias=True)\n",
      ")\n"
     ]
    }
   ],
   "source": [
    "# instantiate the model\n",
    "clf = Conv_net(in_channels=in_channels, num_classes=num_classes)\n",
    "clf.to(device) # move the model to gpu if available\n",
    "print(clf)\n",
    "\n",
    "# instantiate the loss and the optimizer\n",
    "criterion = nn.CrossEntropyLoss()\n",
    "optimizer = optim.Adam(clf.parameters(), lr=learning_rate)"
   ]
  },
  {
   "cell_type": "markdown",
   "metadata": {},
   "source": [
    "### Initialize a dictionary to record training progress"
   ]
  },
  {
   "cell_type": "code",
   "execution_count": 10,
   "metadata": {},
   "outputs": [],
   "source": [
    "train_state = {\n",
    "    \"train_loss\": [],\n",
    "    \"train_acc\": [],\n",
    "    \"val_loss\": [],\n",
    "    \"val_acc\": []\n",
    "}"
   ]
  },
  {
   "cell_type": "markdown",
   "metadata": {},
   "source": [
    "### Train the model\n",
    "[Model saving and loading](https://pytorch.org/tutorials/beginner/saving_loading_models.html)"
   ]
  },
  {
   "cell_type": "code",
   "execution_count": 11,
   "metadata": {},
   "outputs": [
    {
     "name": "stdout",
     "output_type": "stream",
     "text": [
      "[epoch 0 step 200] running training loss: 0.893\n",
      "[epoch 0 step 400] running training loss: 0.527\n",
      "[epoch 0 step 600] running training loss: 0.447\n",
      "[epoch 0] val loss: 0.386, accuracy: 86.350%\n",
      "current best validation loss: 0.386\n",
      "=====>save the best model\n",
      "--------------------------------------------\n",
      "[epoch 1 step 200] running training loss: 0.391\n",
      "[epoch 1 step 400] running training loss: 0.371\n",
      "[epoch 1 step 600] running training loss: 0.350\n",
      "[epoch 1] val loss: 0.328, accuracy: 88.283%\n",
      "current best validation loss: 0.328\n",
      "=====>save the best model\n",
      "--------------------------------------------\n",
      "[epoch 2 step 200] running training loss: 0.312\n",
      "[epoch 2 step 400] running training loss: 0.314\n",
      "[epoch 2 step 600] running training loss: 0.317\n",
      "[epoch 2] val loss: 0.304, accuracy: 88.967%\n",
      "current best validation loss: 0.304\n",
      "=====>save the best model\n",
      "--------------------------------------------\n",
      "[epoch 3 step 200] running training loss: 0.285\n",
      "[epoch 3 step 400] running training loss: 0.271\n",
      "[epoch 3 step 600] running training loss: 0.291\n",
      "[epoch 3] val loss: 0.292, accuracy: 89.492%\n",
      "current best validation loss: 0.292\n",
      "=====>save the best model\n",
      "--------------------------------------------\n",
      "[epoch 4 step 200] running training loss: 0.267\n",
      "[epoch 4 step 400] running training loss: 0.254\n",
      "[epoch 4 step 600] running training loss: 0.259\n",
      "[epoch 4] val loss: 0.285, accuracy: 89.858%\n",
      "current best validation loss: 0.285\n",
      "=====>save the best model\n",
      "--------------------------------------------\n",
      "[epoch 5 step 200] running training loss: 0.234\n",
      "[epoch 5 step 400] running training loss: 0.231\n",
      "[epoch 5 step 600] running training loss: 0.237\n",
      "[epoch 5] val loss: 0.261, accuracy: 90.417%\n",
      "current best validation loss: 0.261\n",
      "=====>save the best model\n",
      "--------------------------------------------\n",
      "[epoch 6 step 200] running training loss: 0.207\n",
      "[epoch 6 step 400] running training loss: 0.220\n",
      "[epoch 6 step 600] running training loss: 0.228\n",
      "[epoch 6] val loss: 0.269, accuracy: 90.292%\n",
      "validation loss stops decreasing for 1 epoch\n",
      "--------------------------------------------\n",
      "[epoch 7 step 200] running training loss: 0.192\n",
      "[epoch 7 step 400] running training loss: 0.198\n",
      "[epoch 7 step 600] running training loss: 0.209\n",
      "[epoch 7] val loss: 0.251, accuracy: 90.567%\n",
      "current best validation loss: 0.251\n",
      "=====>save the best model\n",
      "--------------------------------------------\n",
      "[epoch 8 step 200] running training loss: 0.188\n",
      "[epoch 8 step 400] running training loss: 0.183\n",
      "[epoch 8 step 600] running training loss: 0.191\n",
      "[epoch 8] val loss: 0.253, accuracy: 90.725%\n",
      "validation loss stops decreasing for 1 epoch\n",
      "--------------------------------------------\n",
      "[epoch 9 step 200] running training loss: 0.165\n",
      "[epoch 9 step 400] running training loss: 0.174\n",
      "[epoch 9 step 600] running training loss: 0.182\n",
      "[epoch 9] val loss: 0.246, accuracy: 91.233%\n",
      "current best validation loss: 0.246\n",
      "=====>save the best model\n",
      "--------------------------------------------\n",
      "[epoch 10 step 200] running training loss: 0.152\n",
      "[epoch 10 step 400] running training loss: 0.162\n",
      "[epoch 10 step 600] running training loss: 0.165\n",
      "[epoch 10] val loss: 0.256, accuracy: 90.733%\n",
      "validation loss stops decreasing for 1 epoch\n",
      "--------------------------------------------\n",
      "[epoch 11 step 200] running training loss: 0.148\n",
      "[epoch 11 step 400] running training loss: 0.151\n",
      "[epoch 11 step 600] running training loss: 0.158\n",
      "[epoch 11] val loss: 0.249, accuracy: 91.150%\n",
      "validation loss stops decreasing for 2 epoch\n",
      "--------------------------------------------\n",
      "[epoch 12 step 200] running training loss: 0.139\n",
      "[epoch 12 step 400] running training loss: 0.132\n",
      "[epoch 12 step 600] running training loss: 0.145\n",
      "[epoch 12] val loss: 0.248, accuracy: 91.400%\n",
      "validation loss stops decreasing for 3 epoch\n",
      "--------------------------------------------\n",
      "[epoch 13 step 200] running training loss: 0.119\n",
      "[epoch 13 step 400] running training loss: 0.122\n",
      "[epoch 13 step 600] running training loss: 0.136\n",
      "[epoch 13] val loss: 0.257, accuracy: 90.850%\n",
      "validation loss stops decreasing for 4 epoch\n",
      "--------------------------------------------\n",
      "[epoch 14 step 200] running training loss: 0.104\n",
      "[epoch 14 step 400] running training loss: 0.114\n",
      "[epoch 14 step 600] running training loss: 0.126\n",
      "[epoch 14] val loss: 0.276, accuracy: 90.917%\n",
      "validation loss stops decreasing for 5 epoch\n",
      "early stopping criteria reached\n"
     ]
    }
   ],
   "source": [
    "best_val_loss = float('inf')\n",
    "early_stopping_step = 0\n",
    "\n",
    "for epoch in range(num_epochs):\n",
    "    running_train_loss = 0.0 # running loss for every 200 steps during training\n",
    "    train_loss = 0.0 # accumulated training loss for the entire epoch\n",
    "    num_train_samples = 0 \n",
    "    correct = 0\n",
    "    clf.train() # switch to training mode\n",
    "    for batch_idx, (images, targets) in enumerate(train_loader):\n",
    "        # transfer data to gpu if available\n",
    "        images, targets = images.to(device), targets.to(device)\n",
    "        #print(images.shape, targets.shape)\n",
    "        \n",
    "        # reshape the images to proper shape\n",
    "        batch_size = images.shape[0]\n",
    "        \n",
    "        # forward pass\n",
    "        preds = clf(images)\n",
    "        loss = criterion(preds, targets)\n",
    "        \n",
    "        # back prop\n",
    "        optimizer.zero_grad()\n",
    "        loss.backward()\n",
    "        \n",
    "        # update model params\n",
    "        optimizer.step()\n",
    "        \n",
    "        # evaluate performance for each batch\n",
    "        running_train_loss += loss.item()\n",
    "        train_loss += loss.item() * batch_size\n",
    "        num_train_samples += batch_size\n",
    "        _, pred_labels = torch.max(preds, dim=1)\n",
    "        correct += (pred_labels==targets).sum().item()\n",
    "\n",
    "        # print training stat every 200 steps\n",
    "        if ((batch_idx + 1) % 200==0):\n",
    "            print(f\"[epoch {epoch} step {batch_idx+1}] running training loss: {running_train_loss/200:.3f}\")\n",
    "            running_train_loss = 0.0\n",
    "    \n",
    "    epoch_train_loss= train_loss/num_train_samples\n",
    "    epoch_train_acc= correct/num_train_samples\n",
    "            \n",
    "    # evaluate on the validation set every epoch\n",
    "    clf.eval() # switch to evaluation mode\n",
    "    val_loss = 0.0\n",
    "    num_val_samples = 0 \n",
    "    correct = 0\n",
    "    for images, targets in val_loader:\n",
    "        images, targets = images.to(device), targets.to(device)\n",
    "        batch_size = images.shape[0]\n",
    "        preds = clf(images)\n",
    "        loss = criterion(preds, targets)\n",
    "        val_loss += loss.item() * images.shape[0]\n",
    "        num_val_samples += batch_size\n",
    "        # calculate accuracy\n",
    "        preds = clf(images)\n",
    "        _, pred_labels = torch.max(preds, dim=1)\n",
    "        correct += (pred_labels==targets).sum().item()\n",
    "    epoch_val_loss= val_loss/num_val_samples\n",
    "    epoch_val_acc= correct/num_val_samples\n",
    "    print(f\"[epoch {epoch}] val loss: {epoch_val_loss:.3f}, accuracy: {100*epoch_val_acc:.3f}%\")\n",
    "    \n",
    "    # update train_state dict\n",
    "    train_state['train_loss'].append(epoch_train_loss)\n",
    "    train_state['train_acc'].append(epoch_train_acc)\n",
    "    train_state['val_loss'].append(epoch_val_loss)\n",
    "    train_state['val_acc'].append(epoch_val_acc)\n",
    "    \n",
    "    # early stopping\n",
    "    if (epoch_val_loss < best_val_loss):\n",
    "        best_val_loss = epoch_val_loss\n",
    "        early_stopping_step = 0\n",
    "        print(f\"current best validation loss: {best_val_loss:.3f}\")\n",
    "        torch.save(clf.state_dict(), saved_model_fn)\n",
    "        print(\"=====>save the best model\")\n",
    "    else:\n",
    "        early_stopping_step += 1\n",
    "        print(f\"validation loss stops decreasing for {early_stopping_step} epoch\")\n",
    "        if (early_stopping_step==early_stopping_criteria):\n",
    "            print(\"early stopping criteria reached\")\n",
    "            break\n",
    "    print(\"--------------------------------------------\")\n",
    "            "
   ]
  },
  {
   "cell_type": "markdown",
   "metadata": {},
   "source": [
    "### Test the network on the test data"
   ]
  },
  {
   "cell_type": "code",
   "execution_count": 12,
   "metadata": {},
   "outputs": [
    {
     "name": "stdout",
     "output_type": "stream",
     "text": [
      "testing loss: 0.267, testing accuracy: 90.570%\n"
     ]
    }
   ],
   "source": [
    "# load the saved best model\n",
    "clf = Conv_net(in_channels=in_channels, num_classes=num_classes)\n",
    "clf.load_state_dict(torch.load(saved_model_fn))\n",
    "clf.to(device) # move the model to gpu if available\n",
    "\n",
    "clf.eval()\n",
    "test_loss = 0.0\n",
    "num_test_samples = 0 \n",
    "correct = 0\n",
    "for images, targets in test_loader:\n",
    "    images, targets = images.to(device), targets.to(device)\n",
    "    batch_size = images.shape[0]\n",
    "    preds = clf(images)\n",
    "    loss = criterion(preds, targets)\n",
    "    test_loss += loss.item() * images.shape[0]\n",
    "    num_test_samples += batch_size\n",
    "    # calculate accuracy\n",
    "    preds = clf(images)\n",
    "    _, pred_labels = torch.max(preds, dim=1)\n",
    "    correct += (pred_labels==targets).sum().item()\n",
    "print(f\"testing loss: {test_loss/num_test_samples:.3f}, testing accuracy: {100*correct/num_test_samples:.3f}%\")\n"
   ]
  },
  {
   "cell_type": "markdown",
   "metadata": {},
   "source": [
    "### Plot learning curve"
   ]
  },
  {
   "cell_type": "code",
   "execution_count": 13,
   "metadata": {},
   "outputs": [],
   "source": [
    "def plot_learning_curves(train_hist_df, title):\n",
    "    num_epoch = train_hist_df.shape[0]\n",
    "    train_hist_df.plot(figsize=(8, 5), title=title, xticks=range(1, num_epoch+1, 3))\n",
    "    plt.grid(True)\n",
    "    ymin, ymax = 0.95 * train_hist_df.values.min(), min(1.1 * train_hist_df.values.max(), 1.0)\n",
    "    plt.gca().set_ylim(ymin, ymax)\n",
    "    plt.show()"
   ]
  },
  {
   "cell_type": "code",
   "execution_count": 14,
   "metadata": {},
   "outputs": [
    {
     "name": "stdout",
     "output_type": "stream",
     "text": [
      "    train_loss  train_acc  val_loss   val_acc\n",
      "0     0.584205   0.787958  0.385800  0.863500\n",
      "1     0.363320   0.868687  0.328133  0.882833\n",
      "2     0.310921   0.887583  0.303571  0.889667\n",
      "3     0.280083   0.897458  0.291884  0.894917\n",
      "4     0.254570   0.908583  0.284718  0.898583\n",
      "5     0.235803   0.912229  0.261144  0.904167\n",
      "6     0.216483   0.920854  0.268536  0.902917\n",
      "7     0.203095   0.924854  0.250870  0.905667\n",
      "8     0.187767   0.930688  0.252843  0.907250\n",
      "9     0.174093   0.935646  0.246281  0.912333\n",
      "10    0.160557   0.940708  0.255923  0.907333\n",
      "11    0.150807   0.944000  0.248844  0.911500\n",
      "12    0.139432   0.947375  0.247619  0.914000\n",
      "13    0.127842   0.952979  0.256977  0.908500\n",
      "14    0.118908   0.955729  0.276392  0.909167\n"
     ]
    },
    {
     "data": {
      "image/png": "[encoded data removed]",
      "text/plain": [
       "<Figure size 576x360 with 1 Axes>"
      ]
     },
     "metadata": {
      "needs_background": "light"
     },
     "output_type": "display_data"
    },
    {
     "data": {
      "image/png": "[encoded data removed]",
      "text/plain": [
       "<Figure size 576x360 with 1 Axes>"
      ]
     },
     "metadata": {
      "needs_background": "light"
     },
     "output_type": "display_data"
    }
   ],
   "source": [
    "train_state_df = pd.DataFrame(train_state)\n",
    "print(train_state_df)\n",
    "plot_learning_curves(train_state_df[['train_loss', 'val_loss']], \"Loss Curve\")\n",
    "plot_learning_curves(train_state_df[['train_acc', 'val_acc']], \"Accuracy Curve\")"
   ]
  },
  {
   "cell_type": "code",
   "execution_count": null,
   "metadata": {},
   "outputs": [],
   "source": []
  }
 ],
 "metadata": {
  "kernelspec": {
   "display_name": "torch_dev_kernel",
   "language": "python",
   "name": "torch_dev"
  },
  "language_info": {
   "codemirror_mode": {
    "name": "ipython",
    "version": 3
   },
   "file_extension": ".py",
   "mimetype": "text/x-python",
   "name": "python",
   "nbconvert_exporter": "python",
   "pygments_lexer": "ipython3",
   "version": "3.8.8"
  }
 },
 "nbformat": 4,
 "nbformat_minor": 5
}
